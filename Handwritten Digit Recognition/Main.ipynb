{
 "cells": [
  {
   "cell_type": "code",
   "execution_count": 2,
   "id": "099cdb50-38b4-425b-94fb-a53b42408ec0",
   "metadata": {},
   "outputs": [],
   "source": [
    "from torchvision import datasets\n",
    "from torchvision.transforms import ToTensor"
   ]
  },
  {
   "cell_type": "code",
   "execution_count": 3,
   "id": "8b510807-55e0-40bb-89e4-54ac420029d2",
   "metadata": {},
   "outputs": [],
   "source": [
    "train_data = datasets.MNIST(\n",
    "    root = 'data',\n",
    "    train = True,\n",
    "    transform = ToTensor(),\n",
    "    download = True\n",
    ")\n",
    "\n",
    "test_data = datasets.MNIST(\n",
    "    root = 'data',\n",
    "    train = False,\n",
    "    transform = ToTensor(),\n",
    "    download = True\n",
    ")"
   ]
  },
  {
   "cell_type": "code",
   "execution_count": 4,
   "id": "5e7f4948-1498-4749-a6a5-3ac5464660a6",
   "metadata": {},
   "outputs": [
    {
     "data": {
      "text/plain": [
       "Dataset MNIST\n",
       "    Number of datapoints: 60000\n",
       "    Root location: data\n",
       "    Split: Train\n",
       "    StandardTransform\n",
       "Transform: ToTensor()"
      ]
     },
     "execution_count": 4,
     "metadata": {},
     "output_type": "execute_result"
    }
   ],
   "source": [
    "train_data"
   ]
  },
  {
   "cell_type": "code",
   "execution_count": 5,
   "id": "d5e3f966-a414-4476-9eb9-629de29e1a79",
   "metadata": {},
   "outputs": [
    {
     "data": {
      "text/plain": [
       "Dataset MNIST\n",
       "    Number of datapoints: 10000\n",
       "    Root location: data\n",
       "    Split: Test\n",
       "    StandardTransform\n",
       "Transform: ToTensor()"
      ]
     },
     "execution_count": 5,
     "metadata": {},
     "output_type": "execute_result"
    }
   ],
   "source": [
    "test_data"
   ]
  },
  {
   "cell_type": "code",
   "execution_count": 6,
   "id": "d054bfe7-18c5-48f0-bc0f-790321a9c3cb",
   "metadata": {},
   "outputs": [
    {
     "data": {
      "text/plain": [
       "torch.Size([60000, 28, 28])"
      ]
     },
     "execution_count": 6,
     "metadata": {},
     "output_type": "execute_result"
    }
   ],
   "source": [
    "train_data.data.shape"
   ]
  },
  {
   "cell_type": "code",
   "execution_count": 7,
   "id": "007a7bc0-7018-48ed-b149-410dd6cc98fc",
   "metadata": {},
   "outputs": [
    {
     "data": {
      "text/plain": [
       "torch.Size([10000, 28, 28])"
      ]
     },
     "execution_count": 7,
     "metadata": {},
     "output_type": "execute_result"
    }
   ],
   "source": [
    "test_data.data.shape"
   ]
  },
  {
   "cell_type": "code",
   "execution_count": 8,
   "id": "4218cf1a-4129-45c2-9bcb-0a291269c165",
   "metadata": {},
   "outputs": [
    {
     "data": {
      "text/plain": [
       "torch.Size([60000])"
      ]
     },
     "execution_count": 8,
     "metadata": {},
     "output_type": "execute_result"
    }
   ],
   "source": [
    "train_data.targets.size()"
   ]
  },
  {
   "cell_type": "code",
   "execution_count": 9,
   "id": "f6b14b0b-f125-4a0a-98ac-887226044afa",
   "metadata": {},
   "outputs": [
    {
     "data": {
      "text/plain": [
       "tensor([5, 0, 4,  ..., 5, 6, 8])"
      ]
     },
     "execution_count": 9,
     "metadata": {},
     "output_type": "execute_result"
    }
   ],
   "source": [
    "train_data.targets"
   ]
  },
  {
   "cell_type": "code",
   "execution_count": 10,
   "id": "be8cadb6-6f20-4788-8a01-81fb5a6ab70f",
   "metadata": {},
   "outputs": [],
   "source": [
    "from torch.utils.data import DataLoader\n",
    "\n",
    "loaders = {\n",
    "    'train': DataLoader(train_data,\n",
    "                        batch_size = 100,\n",
    "                        shuffle = True,\n",
    "                        num_workers = 1),\n",
    "\n",
    "    'test': DataLoader(test_data,\n",
    "                       batch_size = 100,\n",
    "                       shuffle = True,\n",
    "                       num_workers = 1),\n",
    "}\n",
    "                        "
   ]
  },
  {
   "cell_type": "code",
   "execution_count": 11,
   "id": "2647e9a9-c028-4f77-b61b-aa7355a77026",
   "metadata": {},
   "outputs": [
    {
     "data": {
      "text/plain": [
       "{'train': <torch.utils.data.dataloader.DataLoader at 0x2bf1927cd00>,\n",
       " 'test': <torch.utils.data.dataloader.DataLoader at 0x2bf1927e6b0>}"
      ]
     },
     "execution_count": 11,
     "metadata": {},
     "output_type": "execute_result"
    }
   ],
   "source": [
    "loaders"
   ]
  },
  {
   "cell_type": "code",
   "execution_count": 12,
   "id": "8eed8070-ca57-440a-a7af-1af0934637c7",
   "metadata": {},
   "outputs": [],
   "source": [
    "import torch.nn as nn\n",
    "import torch.nn.functional as F\n",
    "import torch.optim as optim\n",
    "\n",
    "class CNN(nn.Module):\n",
    "\n",
    "    def __init__(self):\n",
    "        super(CNN, self).__init__()\n",
    "\n",
    "        self.conv1 = nn.Conv2d(1, 10, kernel_size=5)\n",
    "        self.conv2 = nn.Conv2d(10, 20, kernel_size=5)\n",
    "        self.conv2_drop = nn.Dropout2d()\n",
    "        self.fc1 = nn.Linear(320, 50)\n",
    "        self.fc2 = nn.Linear(50, 10)\n",
    "\n",
    "    def forward(self, x):\n",
    "        x = F.relu(F.max_pool2d(self.conv1(x), 2))\n",
    "        x = F.relu(F.max_pool2d(self.conv2_drop(self.conv2(x)), 2))\n",
    "        x = x.view(-1, 320)\n",
    "        x = F.relu(self.fc1(x))\n",
    "        x = F.dropout(x, training=self.training)\n",
    "        x = self.fc2(x)\n",
    "\n",
    "        return F.softmax(x)"
   ]
  },
  {
   "cell_type": "code",
   "execution_count": 13,
   "id": "2bc46d24-26fc-4fb3-a794-22cd660bbcce",
   "metadata": {},
   "outputs": [],
   "source": [
    "import torch\n",
    "\n",
    "device = torch.device('cuda' if torch.cuda.is_available() else 'cpu')\n",
    "\n",
    "model = CNN().to(device)\n",
    "\n",
    "optimizer = optim.Adam(model.parameters(), lr = 0.001)\n",
    "\n",
    "loss_fn = nn.CrossEntropyLoss()\n",
    "\n",
    "def train(epoch):\n",
    "    model.train()\n",
    "    for batch_idx, (data, target) in enumerate(loaders['train']):\n",
    "        data, target = data.to(device), target.to(device)\n",
    "        optimizer.zero_grad()\n",
    "        output = model(data)\n",
    "        loss = loss_fn(output, target)\n",
    "        loss.backward()\n",
    "        optimizer.step()\n",
    "        if batch_idx % 20 == 0:\n",
    "            print(f\"Train Epoch: {epoch} [{batch_idx * len(data)}/{len(loaders['train'].dataset)} ({100. * batch_idx / len(loaders['train']):.0f}%)]\\t{loss.item():.6f}\")\n",
    "\n",
    "def test():\n",
    "    model.eval()\n",
    "\n",
    "    test_loss = 0\n",
    "    correct = 0\n",
    "\n",
    "    with torch.no_grad():\n",
    "        for data, target in loaders['test']:\n",
    "            data, target = data.to(device), target.to(device)\n",
    "            output = model(data)\n",
    "            test_loss += loss_fn(output, target).item()\n",
    "            pred = output.argmax(dim=1, keepdim=True)\n",
    "            correct += pred.eq(target.view_as(pred)).sum().item()\n",
    "    \n",
    "    test_loss /= len(loaders['test'].dataset)\n",
    "    print(f\"\\nTest set: Average loss: {test_loss:.4f}, Accuracy {correct}/{len(loaders['test'].dataset)} ({100. * correct / len(loaders['test'].dataset):.0f}%\\n)\")"
   ]
  },
  {
   "cell_type": "code",
   "execution_count": 14,
   "id": "fc4b7aea-5674-4112-b7dc-0358516a16cb",
   "metadata": {},
   "outputs": [
    {
     "name": "stderr",
     "output_type": "stream",
     "text": [
      "C:\\Users\\kyu2k\\AppData\\Local\\Temp\\ipykernel_38524\\4106072696.py:24: UserWarning: Implicit dimension choice for softmax has been deprecated. Change the call to include dim=X as an argument.\n",
      "  return F.softmax(x)\n"
     ]
    },
    {
     "name": "stdout",
     "output_type": "stream",
     "text": [
      "Train Epoch: 1 [0/60000 (0%)]\t2.302422\n",
      "Train Epoch: 1 [2000/60000 (3%)]\t2.296729\n",
      "Train Epoch: 1 [4000/60000 (7%)]\t2.221562\n",
      "Train Epoch: 1 [6000/60000 (10%)]\t1.993463\n",
      "Train Epoch: 1 [8000/60000 (13%)]\t1.964695\n",
      "Train Epoch: 1 [10000/60000 (17%)]\t1.901259\n",
      "Train Epoch: 1 [12000/60000 (20%)]\t1.866588\n",
      "Train Epoch: 1 [14000/60000 (23%)]\t1.785120\n",
      "Train Epoch: 1 [16000/60000 (27%)]\t1.857614\n",
      "Train Epoch: 1 [18000/60000 (30%)]\t1.749392\n",
      "Train Epoch: 1 [20000/60000 (33%)]\t1.692362\n",
      "Train Epoch: 1 [22000/60000 (37%)]\t1.705381\n",
      "Train Epoch: 1 [24000/60000 (40%)]\t1.740359\n",
      "Train Epoch: 1 [26000/60000 (43%)]\t1.707377\n",
      "Train Epoch: 1 [28000/60000 (47%)]\t1.639284\n",
      "Train Epoch: 1 [30000/60000 (50%)]\t1.635148\n",
      "Train Epoch: 1 [32000/60000 (53%)]\t1.722884\n",
      "Train Epoch: 1 [34000/60000 (57%)]\t1.702439\n",
      "Train Epoch: 1 [36000/60000 (60%)]\t1.643244\n",
      "Train Epoch: 1 [38000/60000 (63%)]\t1.684567\n",
      "Train Epoch: 1 [40000/60000 (67%)]\t1.654070\n",
      "Train Epoch: 1 [42000/60000 (70%)]\t1.617535\n",
      "Train Epoch: 1 [44000/60000 (73%)]\t1.660726\n",
      "Train Epoch: 1 [46000/60000 (77%)]\t1.612123\n",
      "Train Epoch: 1 [48000/60000 (80%)]\t1.656929\n",
      "Train Epoch: 1 [50000/60000 (83%)]\t1.637394\n",
      "Train Epoch: 1 [52000/60000 (87%)]\t1.576056\n",
      "Train Epoch: 1 [54000/60000 (90%)]\t1.612376\n",
      "Train Epoch: 1 [56000/60000 (93%)]\t1.552576\n",
      "Train Epoch: 1 [58000/60000 (97%)]\t1.671242\n",
      "\n",
      "Test set: Average loss: 0.0153, Accuracy 9322/10000 (93%\n",
      ")\n",
      "Train Epoch: 2 [0/60000 (0%)]\t1.631589\n",
      "Train Epoch: 2 [2000/60000 (3%)]\t1.592121\n",
      "Train Epoch: 2 [4000/60000 (7%)]\t1.614693\n",
      "Train Epoch: 2 [6000/60000 (10%)]\t1.659214\n",
      "Train Epoch: 2 [8000/60000 (13%)]\t1.627913\n",
      "Train Epoch: 2 [10000/60000 (17%)]\t1.537494\n",
      "Train Epoch: 2 [12000/60000 (20%)]\t1.594399\n",
      "Train Epoch: 2 [14000/60000 (23%)]\t1.585429\n",
      "Train Epoch: 2 [16000/60000 (27%)]\t1.586275\n",
      "Train Epoch: 2 [18000/60000 (30%)]\t1.614177\n",
      "Train Epoch: 2 [20000/60000 (33%)]\t1.594869\n",
      "Train Epoch: 2 [22000/60000 (37%)]\t1.577492\n",
      "Train Epoch: 2 [24000/60000 (40%)]\t1.610965\n",
      "Train Epoch: 2 [26000/60000 (43%)]\t1.545362\n",
      "Train Epoch: 2 [28000/60000 (47%)]\t1.570309\n",
      "Train Epoch: 2 [30000/60000 (50%)]\t1.611937\n",
      "Train Epoch: 2 [32000/60000 (53%)]\t1.579600\n",
      "Train Epoch: 2 [34000/60000 (57%)]\t1.551706\n",
      "Train Epoch: 2 [36000/60000 (60%)]\t1.588993\n",
      "Train Epoch: 2 [38000/60000 (63%)]\t1.569582\n",
      "Train Epoch: 2 [40000/60000 (67%)]\t1.603542\n",
      "Train Epoch: 2 [42000/60000 (70%)]\t1.532537\n",
      "Train Epoch: 2 [44000/60000 (73%)]\t1.527939\n",
      "Train Epoch: 2 [46000/60000 (77%)]\t1.578532\n",
      "Train Epoch: 2 [48000/60000 (80%)]\t1.546582\n",
      "Train Epoch: 2 [50000/60000 (83%)]\t1.538095\n",
      "Train Epoch: 2 [52000/60000 (87%)]\t1.577212\n",
      "Train Epoch: 2 [54000/60000 (90%)]\t1.591321\n",
      "Train Epoch: 2 [56000/60000 (93%)]\t1.571703\n",
      "Train Epoch: 2 [58000/60000 (97%)]\t1.514872\n",
      "\n",
      "Test set: Average loss: 0.0151, Accuracy 9521/10000 (95%\n",
      ")\n",
      "Train Epoch: 3 [0/60000 (0%)]\t1.579573\n",
      "Train Epoch: 3 [2000/60000 (3%)]\t1.555478\n",
      "Train Epoch: 3 [4000/60000 (7%)]\t1.547358\n",
      "Train Epoch: 3 [6000/60000 (10%)]\t1.571123\n",
      "Train Epoch: 3 [8000/60000 (13%)]\t1.525938\n",
      "Train Epoch: 3 [10000/60000 (17%)]\t1.619560\n",
      "Train Epoch: 3 [12000/60000 (20%)]\t1.544469\n",
      "Train Epoch: 3 [14000/60000 (23%)]\t1.512051\n",
      "Train Epoch: 3 [16000/60000 (27%)]\t1.571306\n",
      "Train Epoch: 3 [18000/60000 (30%)]\t1.607760\n",
      "Train Epoch: 3 [20000/60000 (33%)]\t1.557824\n",
      "Train Epoch: 3 [22000/60000 (37%)]\t1.575028\n",
      "Train Epoch: 3 [24000/60000 (40%)]\t1.576763\n",
      "Train Epoch: 3 [26000/60000 (43%)]\t1.565621\n",
      "Train Epoch: 3 [28000/60000 (47%)]\t1.559042\n",
      "Train Epoch: 3 [30000/60000 (50%)]\t1.563320\n",
      "Train Epoch: 3 [32000/60000 (53%)]\t1.541497\n",
      "Train Epoch: 3 [34000/60000 (57%)]\t1.566151\n",
      "Train Epoch: 3 [36000/60000 (60%)]\t1.552554\n",
      "Train Epoch: 3 [38000/60000 (63%)]\t1.570710\n",
      "Train Epoch: 3 [40000/60000 (67%)]\t1.554887\n",
      "Train Epoch: 3 [42000/60000 (70%)]\t1.523980\n",
      "Train Epoch: 3 [44000/60000 (73%)]\t1.575125\n",
      "Train Epoch: 3 [46000/60000 (77%)]\t1.550729\n",
      "Train Epoch: 3 [48000/60000 (80%)]\t1.536093\n",
      "Train Epoch: 3 [50000/60000 (83%)]\t1.589864\n",
      "Train Epoch: 3 [52000/60000 (87%)]\t1.586353\n",
      "Train Epoch: 3 [54000/60000 (90%)]\t1.576432\n",
      "Train Epoch: 3 [56000/60000 (93%)]\t1.512466\n",
      "Train Epoch: 3 [58000/60000 (97%)]\t1.576330\n",
      "\n",
      "Test set: Average loss: 0.0150, Accuracy 9598/10000 (96%\n",
      ")\n",
      "Train Epoch: 4 [0/60000 (0%)]\t1.567062\n",
      "Train Epoch: 4 [2000/60000 (3%)]\t1.564274\n",
      "Train Epoch: 4 [4000/60000 (7%)]\t1.502274\n",
      "Train Epoch: 4 [6000/60000 (10%)]\t1.552630\n",
      "Train Epoch: 4 [8000/60000 (13%)]\t1.561726\n",
      "Train Epoch: 4 [10000/60000 (17%)]\t1.521731\n",
      "Train Epoch: 4 [12000/60000 (20%)]\t1.540875\n",
      "Train Epoch: 4 [14000/60000 (23%)]\t1.544156\n",
      "Train Epoch: 4 [16000/60000 (27%)]\t1.537705\n",
      "Train Epoch: 4 [18000/60000 (30%)]\t1.553881\n",
      "Train Epoch: 4 [20000/60000 (33%)]\t1.562072\n",
      "Train Epoch: 4 [22000/60000 (37%)]\t1.531321\n",
      "Train Epoch: 4 [24000/60000 (40%)]\t1.549668\n",
      "Train Epoch: 4 [26000/60000 (43%)]\t1.576348\n",
      "Train Epoch: 4 [28000/60000 (47%)]\t1.552398\n",
      "Train Epoch: 4 [30000/60000 (50%)]\t1.522165\n",
      "Train Epoch: 4 [32000/60000 (53%)]\t1.525085\n",
      "Train Epoch: 4 [34000/60000 (57%)]\t1.543807\n",
      "Train Epoch: 4 [36000/60000 (60%)]\t1.550754\n",
      "Train Epoch: 4 [38000/60000 (63%)]\t1.528335\n",
      "Train Epoch: 4 [40000/60000 (67%)]\t1.535735\n",
      "Train Epoch: 4 [42000/60000 (70%)]\t1.574090\n",
      "Train Epoch: 4 [44000/60000 (73%)]\t1.528232\n",
      "Train Epoch: 4 [46000/60000 (77%)]\t1.545284\n",
      "Train Epoch: 4 [48000/60000 (80%)]\t1.534773\n",
      "Train Epoch: 4 [50000/60000 (83%)]\t1.531493\n",
      "Train Epoch: 4 [52000/60000 (87%)]\t1.590844\n",
      "Train Epoch: 4 [54000/60000 (90%)]\t1.554825\n",
      "Train Epoch: 4 [56000/60000 (93%)]\t1.585246\n",
      "Train Epoch: 4 [58000/60000 (97%)]\t1.606608\n",
      "\n",
      "Test set: Average loss: 0.0150, Accuracy 9630/10000 (96%\n",
      ")\n",
      "Train Epoch: 5 [0/60000 (0%)]\t1.547055\n",
      "Train Epoch: 5 [2000/60000 (3%)]\t1.529553\n",
      "Train Epoch: 5 [4000/60000 (7%)]\t1.571117\n",
      "Train Epoch: 5 [6000/60000 (10%)]\t1.513405\n",
      "Train Epoch: 5 [8000/60000 (13%)]\t1.557123\n",
      "Train Epoch: 5 [10000/60000 (17%)]\t1.543885\n",
      "Train Epoch: 5 [12000/60000 (20%)]\t1.555611\n",
      "Train Epoch: 5 [14000/60000 (23%)]\t1.550811\n",
      "Train Epoch: 5 [16000/60000 (27%)]\t1.572341\n",
      "Train Epoch: 5 [18000/60000 (30%)]\t1.551324\n",
      "Train Epoch: 5 [20000/60000 (33%)]\t1.561708\n",
      "Train Epoch: 5 [22000/60000 (37%)]\t1.534501\n",
      "Train Epoch: 5 [24000/60000 (40%)]\t1.548526\n",
      "Train Epoch: 5 [26000/60000 (43%)]\t1.538568\n",
      "Train Epoch: 5 [28000/60000 (47%)]\t1.544268\n",
      "Train Epoch: 5 [30000/60000 (50%)]\t1.535521\n",
      "Train Epoch: 5 [32000/60000 (53%)]\t1.536564\n",
      "Train Epoch: 5 [34000/60000 (57%)]\t1.546605\n",
      "Train Epoch: 5 [36000/60000 (60%)]\t1.511962\n",
      "Train Epoch: 5 [38000/60000 (63%)]\t1.522380\n",
      "Train Epoch: 5 [40000/60000 (67%)]\t1.512488\n",
      "Train Epoch: 5 [42000/60000 (70%)]\t1.576803\n",
      "Train Epoch: 5 [44000/60000 (73%)]\t1.545065\n",
      "Train Epoch: 5 [46000/60000 (77%)]\t1.519460\n",
      "Train Epoch: 5 [48000/60000 (80%)]\t1.569727\n",
      "Train Epoch: 5 [50000/60000 (83%)]\t1.545123\n",
      "Train Epoch: 5 [52000/60000 (87%)]\t1.534500\n",
      "Train Epoch: 5 [54000/60000 (90%)]\t1.579872\n",
      "Train Epoch: 5 [56000/60000 (93%)]\t1.538204\n",
      "Train Epoch: 5 [58000/60000 (97%)]\t1.495924\n",
      "\n",
      "Test set: Average loss: 0.0150, Accuracy 9645/10000 (96%\n",
      ")\n",
      "Train Epoch: 6 [0/60000 (0%)]\t1.499194\n",
      "Train Epoch: 6 [2000/60000 (3%)]\t1.520291\n",
      "Train Epoch: 6 [4000/60000 (7%)]\t1.569461\n",
      "Train Epoch: 6 [6000/60000 (10%)]\t1.541683\n",
      "Train Epoch: 6 [8000/60000 (13%)]\t1.548855\n",
      "Train Epoch: 6 [10000/60000 (17%)]\t1.521010\n",
      "Train Epoch: 6 [12000/60000 (20%)]\t1.513671\n",
      "Train Epoch: 6 [14000/60000 (23%)]\t1.535756\n",
      "Train Epoch: 6 [16000/60000 (27%)]\t1.529364\n",
      "Train Epoch: 6 [18000/60000 (30%)]\t1.583156\n",
      "Train Epoch: 6 [20000/60000 (33%)]\t1.568019\n",
      "Train Epoch: 6 [22000/60000 (37%)]\t1.544648\n",
      "Train Epoch: 6 [24000/60000 (40%)]\t1.539170\n",
      "Train Epoch: 6 [26000/60000 (43%)]\t1.561510\n",
      "Train Epoch: 6 [28000/60000 (47%)]\t1.544772\n",
      "Train Epoch: 6 [30000/60000 (50%)]\t1.614345\n",
      "Train Epoch: 6 [32000/60000 (53%)]\t1.536865\n",
      "Train Epoch: 6 [34000/60000 (57%)]\t1.509082\n",
      "Train Epoch: 6 [36000/60000 (60%)]\t1.552394\n",
      "Train Epoch: 6 [38000/60000 (63%)]\t1.538088\n",
      "Train Epoch: 6 [40000/60000 (67%)]\t1.550125\n",
      "Train Epoch: 6 [42000/60000 (70%)]\t1.563862\n",
      "Train Epoch: 6 [44000/60000 (73%)]\t1.548857\n",
      "Train Epoch: 6 [46000/60000 (77%)]\t1.548275\n",
      "Train Epoch: 6 [48000/60000 (80%)]\t1.502318\n",
      "Train Epoch: 6 [50000/60000 (83%)]\t1.563945\n",
      "Train Epoch: 6 [52000/60000 (87%)]\t1.493492\n",
      "Train Epoch: 6 [54000/60000 (90%)]\t1.564179\n",
      "Train Epoch: 6 [56000/60000 (93%)]\t1.541773\n",
      "Train Epoch: 6 [58000/60000 (97%)]\t1.520363\n",
      "\n",
      "Test set: Average loss: 0.0150, Accuracy 9646/10000 (96%\n",
      ")\n",
      "Train Epoch: 7 [0/60000 (0%)]\t1.499934\n",
      "Train Epoch: 7 [2000/60000 (3%)]\t1.556055\n",
      "Train Epoch: 7 [4000/60000 (7%)]\t1.520925\n",
      "Train Epoch: 7 [6000/60000 (10%)]\t1.515889\n",
      "Train Epoch: 7 [8000/60000 (13%)]\t1.540506\n",
      "Train Epoch: 7 [10000/60000 (17%)]\t1.532047\n",
      "Train Epoch: 7 [12000/60000 (20%)]\t1.496636\n",
      "Train Epoch: 7 [14000/60000 (23%)]\t1.537050\n",
      "Train Epoch: 7 [16000/60000 (27%)]\t1.517724\n",
      "Train Epoch: 7 [18000/60000 (30%)]\t1.547542\n",
      "Train Epoch: 7 [20000/60000 (33%)]\t1.514253\n",
      "Train Epoch: 7 [22000/60000 (37%)]\t1.539238\n",
      "Train Epoch: 7 [24000/60000 (40%)]\t1.487001\n",
      "Train Epoch: 7 [26000/60000 (43%)]\t1.547863\n",
      "Train Epoch: 7 [28000/60000 (47%)]\t1.522870\n",
      "Train Epoch: 7 [30000/60000 (50%)]\t1.546772\n",
      "Train Epoch: 7 [32000/60000 (53%)]\t1.538940\n",
      "Train Epoch: 7 [34000/60000 (57%)]\t1.551559\n",
      "Train Epoch: 7 [36000/60000 (60%)]\t1.560716\n",
      "Train Epoch: 7 [38000/60000 (63%)]\t1.523064\n",
      "Train Epoch: 7 [40000/60000 (67%)]\t1.578362\n",
      "Train Epoch: 7 [42000/60000 (70%)]\t1.518864\n",
      "Train Epoch: 7 [44000/60000 (73%)]\t1.533061\n",
      "Train Epoch: 7 [46000/60000 (77%)]\t1.545168\n",
      "Train Epoch: 7 [48000/60000 (80%)]\t1.545956\n",
      "Train Epoch: 7 [50000/60000 (83%)]\t1.500649\n",
      "Train Epoch: 7 [52000/60000 (87%)]\t1.514857\n",
      "Train Epoch: 7 [54000/60000 (90%)]\t1.556598\n",
      "Train Epoch: 7 [56000/60000 (93%)]\t1.500874\n",
      "Train Epoch: 7 [58000/60000 (97%)]\t1.537555\n",
      "\n",
      "Test set: Average loss: 0.0149, Accuracy 9672/10000 (97%\n",
      ")\n",
      "Train Epoch: 8 [0/60000 (0%)]\t1.536437\n",
      "Train Epoch: 8 [2000/60000 (3%)]\t1.512738\n",
      "Train Epoch: 8 [4000/60000 (7%)]\t1.543820\n",
      "Train Epoch: 8 [6000/60000 (10%)]\t1.503956\n",
      "Train Epoch: 8 [8000/60000 (13%)]\t1.541575\n",
      "Train Epoch: 8 [10000/60000 (17%)]\t1.542675\n",
      "Train Epoch: 8 [12000/60000 (20%)]\t1.529790\n",
      "Train Epoch: 8 [14000/60000 (23%)]\t1.507018\n",
      "Train Epoch: 8 [16000/60000 (27%)]\t1.530163\n",
      "Train Epoch: 8 [18000/60000 (30%)]\t1.535136\n",
      "Train Epoch: 8 [20000/60000 (33%)]\t1.505569\n",
      "Train Epoch: 8 [22000/60000 (37%)]\t1.583246\n",
      "Train Epoch: 8 [24000/60000 (40%)]\t1.496443\n",
      "Train Epoch: 8 [26000/60000 (43%)]\t1.523582\n",
      "Train Epoch: 8 [28000/60000 (47%)]\t1.526562\n",
      "Train Epoch: 8 [30000/60000 (50%)]\t1.538174\n",
      "Train Epoch: 8 [32000/60000 (53%)]\t1.526721\n",
      "Train Epoch: 8 [34000/60000 (57%)]\t1.517275\n",
      "Train Epoch: 8 [36000/60000 (60%)]\t1.562201\n",
      "Train Epoch: 8 [38000/60000 (63%)]\t1.531003\n",
      "Train Epoch: 8 [40000/60000 (67%)]\t1.520452\n",
      "Train Epoch: 8 [42000/60000 (70%)]\t1.569355\n",
      "Train Epoch: 8 [44000/60000 (73%)]\t1.547435\n",
      "Train Epoch: 8 [46000/60000 (77%)]\t1.524186\n",
      "Train Epoch: 8 [48000/60000 (80%)]\t1.499730\n",
      "Train Epoch: 8 [50000/60000 (83%)]\t1.522715\n",
      "Train Epoch: 8 [52000/60000 (87%)]\t1.536960\n",
      "Train Epoch: 8 [54000/60000 (90%)]\t1.505914\n",
      "Train Epoch: 8 [56000/60000 (93%)]\t1.528962\n",
      "Train Epoch: 8 [58000/60000 (97%)]\t1.521867\n",
      "\n",
      "Test set: Average loss: 0.0149, Accuracy 9714/10000 (97%\n",
      ")\n",
      "Train Epoch: 9 [0/60000 (0%)]\t1.505834\n",
      "Train Epoch: 9 [2000/60000 (3%)]\t1.518327\n",
      "Train Epoch: 9 [4000/60000 (7%)]\t1.561892\n",
      "Train Epoch: 9 [6000/60000 (10%)]\t1.523681\n",
      "Train Epoch: 9 [8000/60000 (13%)]\t1.516448\n",
      "Train Epoch: 9 [10000/60000 (17%)]\t1.553700\n",
      "Train Epoch: 9 [12000/60000 (20%)]\t1.529323\n",
      "Train Epoch: 9 [14000/60000 (23%)]\t1.527914\n",
      "Train Epoch: 9 [16000/60000 (27%)]\t1.538370\n",
      "Train Epoch: 9 [18000/60000 (30%)]\t1.519952\n",
      "Train Epoch: 9 [20000/60000 (33%)]\t1.516933\n",
      "Train Epoch: 9 [22000/60000 (37%)]\t1.565284\n",
      "Train Epoch: 9 [24000/60000 (40%)]\t1.540198\n",
      "Train Epoch: 9 [26000/60000 (43%)]\t1.543937\n",
      "Train Epoch: 9 [28000/60000 (47%)]\t1.515771\n",
      "Train Epoch: 9 [30000/60000 (50%)]\t1.477738\n",
      "Train Epoch: 9 [32000/60000 (53%)]\t1.510946\n",
      "Train Epoch: 9 [34000/60000 (57%)]\t1.517040\n",
      "Train Epoch: 9 [36000/60000 (60%)]\t1.506920\n",
      "Train Epoch: 9 [38000/60000 (63%)]\t1.541118\n",
      "Train Epoch: 9 [40000/60000 (67%)]\t1.547427\n",
      "Train Epoch: 9 [42000/60000 (70%)]\t1.527729\n",
      "Train Epoch: 9 [44000/60000 (73%)]\t1.520963\n",
      "Train Epoch: 9 [46000/60000 (77%)]\t1.503275\n",
      "Train Epoch: 9 [48000/60000 (80%)]\t1.526210\n",
      "Train Epoch: 9 [50000/60000 (83%)]\t1.494246\n",
      "Train Epoch: 9 [52000/60000 (87%)]\t1.590140\n",
      "Train Epoch: 9 [54000/60000 (90%)]\t1.556482\n",
      "Train Epoch: 9 [56000/60000 (93%)]\t1.530990\n",
      "Train Epoch: 9 [58000/60000 (97%)]\t1.537780\n",
      "\n",
      "Test set: Average loss: 0.0149, Accuracy 9724/10000 (97%\n",
      ")\n",
      "Train Epoch: 10 [0/60000 (0%)]\t1.488375\n",
      "Train Epoch: 10 [2000/60000 (3%)]\t1.531822\n",
      "Train Epoch: 10 [4000/60000 (7%)]\t1.526952\n",
      "Train Epoch: 10 [6000/60000 (10%)]\t1.574563\n",
      "Train Epoch: 10 [8000/60000 (13%)]\t1.520875\n",
      "Train Epoch: 10 [10000/60000 (17%)]\t1.516157\n",
      "Train Epoch: 10 [12000/60000 (20%)]\t1.553984\n",
      "Train Epoch: 10 [14000/60000 (23%)]\t1.543057\n",
      "Train Epoch: 10 [16000/60000 (27%)]\t1.501065\n",
      "Train Epoch: 10 [18000/60000 (30%)]\t1.545813\n",
      "Train Epoch: 10 [20000/60000 (33%)]\t1.503937\n",
      "Train Epoch: 10 [22000/60000 (37%)]\t1.526260\n",
      "Train Epoch: 10 [24000/60000 (40%)]\t1.503225\n",
      "Train Epoch: 10 [26000/60000 (43%)]\t1.549565\n",
      "Train Epoch: 10 [28000/60000 (47%)]\t1.501783\n",
      "Train Epoch: 10 [30000/60000 (50%)]\t1.539764\n",
      "Train Epoch: 10 [32000/60000 (53%)]\t1.510359\n",
      "Train Epoch: 10 [34000/60000 (57%)]\t1.538165\n",
      "Train Epoch: 10 [36000/60000 (60%)]\t1.514728\n",
      "Train Epoch: 10 [38000/60000 (63%)]\t1.497096\n",
      "Train Epoch: 10 [40000/60000 (67%)]\t1.534846\n",
      "Train Epoch: 10 [42000/60000 (70%)]\t1.539784\n",
      "Train Epoch: 10 [44000/60000 (73%)]\t1.517795\n",
      "Train Epoch: 10 [46000/60000 (77%)]\t1.500123\n",
      "Train Epoch: 10 [48000/60000 (80%)]\t1.535007\n",
      "Train Epoch: 10 [50000/60000 (83%)]\t1.571055\n",
      "Train Epoch: 10 [52000/60000 (87%)]\t1.549178\n",
      "Train Epoch: 10 [54000/60000 (90%)]\t1.516968\n",
      "Train Epoch: 10 [56000/60000 (93%)]\t1.524073\n",
      "Train Epoch: 10 [58000/60000 (97%)]\t1.536296\n",
      "\n",
      "Test set: Average loss: 0.0149, Accuracy 9729/10000 (97%\n",
      ")\n"
     ]
    }
   ],
   "source": [
    "for epoch in range(1, 11):\n",
    "    train(epoch)\n",
    "    test()"
   ]
  },
  {
   "cell_type": "code",
   "execution_count": 15,
   "id": "5be4ef4d-1d87-4db8-bc8d-574fba3d9f98",
   "metadata": {},
   "outputs": [
    {
     "data": {
      "text/plain": [
       "device(type='cpu')"
      ]
     },
     "execution_count": 15,
     "metadata": {},
     "output_type": "execute_result"
    }
   ],
   "source": [
    "device"
   ]
  },
  {
   "cell_type": "code",
   "execution_count": null,
   "id": "60b4779c-af3b-4b4c-99ae-0802ea01f2b8",
   "metadata": {},
   "outputs": [
    {
     "name": "stdout",
     "output_type": "stream",
     "text": [
      "Predicitino: 7\n"
     ]
    },
    {
     "name": "stderr",
     "output_type": "stream",
     "text": [
      "C:\\Users\\kyu2k\\AppData\\Local\\Temp\\ipykernel_38524\\4106072696.py:24: UserWarning: Implicit dimension choice for softmax has been deprecated. Change the call to include dim=X as an argument.\n",
      "  return F.softmax(x)\n"
     ]
    },
    {
     "data": {
      "text/plain": [
       "<function matplotlib.pyplot.show(close=None, block=None)>"
      ]
     },
     "execution_count": 16,
     "metadata": {},
     "output_type": "execute_result"
    }
   ],
   "source": [
    "import matplotlib.pyplot as plt\n",
    "\n",
    "model.eval()\n",
    "\n",
    "data, target = test_data[0]\n",
    "\n",
    "data = data.unsqueeze(0).to(device)\n",
    "\n",
    "output = model(data)\n",
    "\n",
    "predicition = output.argmax(dim=1, keepdim=True).item()\n",
    "\n",
    "print(f'Predicitino: {predicition}')\n",
    "\n",
    "image = data.squeeze(0).squeeze(0).cpu().numpy()\n",
    "\n",
    "plt.imshow(image, cmap='gray')\n",
    "plt.show"
   ]
  },
  {
   "cell_type": "code",
   "execution_count": null,
   "id": "28428ae7-d675-4def-8e0f-6536926ce9a2",
   "metadata": {},
   "outputs": [],
   "source": []
  }
 ],
 "metadata": {
  "kernelspec": {
   "display_name": "Python 3 (ipykernel)",
   "language": "python",
   "name": "python3"
  },
  "language_info": {
   "codemirror_mode": {
    "name": "ipython",
    "version": 3
   },
   "file_extension": ".py",
   "mimetype": "text/x-python",
   "name": "python",
   "nbconvert_exporter": "python",
   "pygments_lexer": "ipython3",
   "version": "3.10.18"
  }
 },
 "nbformat": 4,
 "nbformat_minor": 5
}
